{
 "cells": [
  {
   "cell_type": "code",
   "execution_count": 5,
   "metadata": {},
   "outputs": [
    {
     "name": "stdout",
     "output_type": "stream",
     "text": [
      "720\n"
     ]
    }
   ],
   "source": [
    "import sys\n",
    "sys.path.append('./package/')\n",
    "\n",
    "import networkx as nx\n",
    "\n",
    "from package.utils import read_items, getItemsPrice\n",
    "from package.topic import TopicModel\n",
    "from package.itemset import ItemRelation, ItemsetFlyweight\n",
    "from package.model import DiffusionModel\n",
    "from package.algorithm import Algorithm\n",
    "\n",
    "ITEMS_FILE = r\"D:\\\\論文實驗\\\\data\\\\amazon\\\\sample_items.csv\"\n",
    "items = read_items(ITEMS_FILE)\n",
    "for key, attr in items.items():\n",
    "    if \"price\" not in attr:\n",
    "        del items[key]\n",
    "        \n",
    "topicModel = TopicModel(3)\n",
    "topicModel.randomTopic(items_id=items.keys())\n",
    "\n",
    "graph = nx.diamond_graph()\n",
    "\n",
    "relation = ItemRelation()\n",
    "relation.construct(ITEMS_FILE)\n",
    "itemset = ItemsetFlyweight(getItemsPrice(ITEMS_FILE), topicModel, relation)\n",
    "\n",
    "model = DiffusionModel(graph, itemset, threshold=10**(-5))\n",
    "algo = Algorithm(model, 10, depth=5)\n",
    "# candidatedCoupons = algo.genFullItemCoupons(starThreshold=min(itemset.PRICE.values()), step=5, discountPercentage=[0.2, 0.4, 0.6, 0.8])\n",
    "# candidatedCoupons = algo.genDiscountItemCoupons([0.2])\n",
    "candidatedCoupons = algo.genAllCoupons(5)\n",
    "print(len(candidatedCoupons))\n"
   ]
  },
  {
   "cell_type": "code",
   "execution_count": 6,
   "metadata": {},
   "outputs": [],
   "source": [
    "from itertools import combinations\n",
    "num_coupons = 2\n",
    "couponsPowerset = []\n",
    "i = 0\n",
    "for comb in combinations(candidatedCoupons, num_coupons):\n",
    "    couponsPowerset.append((i, list(comb)))\n",
    "    i += 1"
   ]
  },
  {
   "cell_type": "code",
   "execution_count": 7,
   "metadata": {},
   "outputs": [
    {
     "data": {
      "text/plain": [
       "258840"
      ]
     },
     "execution_count": 7,
     "metadata": {},
     "output_type": "execute_result"
    }
   ],
   "source": [
    "len(couponsPowerset)"
   ]
  },
  {
   "cell_type": "code",
   "execution_count": 3,
   "metadata": {},
   "outputs": [
    {
     "name": "stdout",
     "output_type": "stream",
     "text": [
      "12.31,B000JX5JGI B000R99IFC B000VYIUJS,9.848,B000JX5JGI B000R99IFC B000VYIUJS\n",
      "17.310000000000002,B000JX5JGI B000R99IFC B000VYIUJS,13.848000000000003,B000JX5JGI B000R99IFC B000VYIUJS\n",
      "22.310000000000002,B000JX5JGI B000R99IFC B000VYIUJS,17.848000000000003,B000JX5JGI B000R99IFC B000VYIUJS\n",
      "27.310000000000006,B000JX5JGI B000R99IFC B000VYIUJS,21.848000000000006,B000JX5JGI B000R99IFC B000VYIUJS\n",
      "32.31000000000001,B000JX5JGI B000R99IFC B000VYIUJS,25.84800000000001,B000JX5JGI B000R99IFC B000VYIUJS\n",
      "37.31000000000001,B000JX5JGI B000R99IFC B000VYIUJS,29.84800000000001,B000JX5JGI B000R99IFC B000VYIUJS\n",
      "42.31000000000001,B000JX5JGI B000R99IFC B000VYIUJS,33.848000000000006,B000JX5JGI B000R99IFC B000VYIUJS\n",
      "47.31000000000002,B000JX5JGI B000R99IFC B000VYIUJS,37.84800000000001,B000JX5JGI B000R99IFC B000VYIUJS\n"
     ]
    }
   ],
   "source": [
    "for c in candidatedCoupons:\n",
    "    print(c)"
   ]
  },
  {
   "cell_type": "code",
   "execution_count": 5,
   "metadata": {},
   "outputs": [
    {
     "data": {
      "text/plain": [
       "'18.99,B000JX5JGI,5.0,B000JX5JGI'"
      ]
     },
     "execution_count": 5,
     "metadata": {},
     "output_type": "execute_result"
    }
   ],
   "source": [
    "str(candidatedCoupons[0])"
   ]
  },
  {
   "cell_type": "code",
   "execution_count": 14,
   "metadata": {},
   "outputs": [
    {
     "name": "stdout",
     "output_type": "stream",
     "text": [
      "12.31,B000VYIUJS,15.0,B000JX5JGI B000R99IFC B000VYIUJS\n",
      "12.31,B000VYIUJS,25.0,B000JX5JGI B000R99IFC B000VYIUJS\n",
      "12.31,B000VYIUJS,35.0,B000JX5JGI B000R99IFC B000VYIUJS\n",
      "12.31,B000VYIUJS,45.0,B000JX5JGI B000R99IFC B000VYIUJS\n",
      "17.95,B000R99IFC,5.0,B000VYIUJS\n",
      "17.95,B000R99IFC,5.0,B000R99IFC\n",
      "17.95,B000R99IFC,15.0,B000R99IFC\n",
      "17.95,B000R99IFC,5.0,B000JX5JGI\n",
      "17.95,B000R99IFC,15.0,B000JX5JGI\n",
      "17.95,B000R99IFC,5.0,B000R99IFC B000VYIUJS\n",
      "17.95,B000R99IFC,15.0,B000R99IFC B000VYIUJS\n",
      "17.95,B000R99IFC,25.0,B000R99IFC B000VYIUJS\n",
      "17.95,B000R99IFC,5.0,B000JX5JGI B000VYIUJS\n",
      "17.95,B000R99IFC,15.0,B000JX5JGI B000VYIUJS\n",
      "17.95,B000R99IFC,25.0,B000JX5JGI B000VYIUJS\n",
      "17.95,B000R99IFC,5.0,B000JX5JGI B000R99IFC\n"
     ]
    }
   ],
   "source": [
    "NUM = 16\n",
    "for i in range(min(NUM, len(candidatedCoupons))):\n",
    "    print(candidatedCoupons[NUM*1 + i])"
   ]
  },
  {
   "cell_type": "code",
   "execution_count": 14,
   "metadata": {},
   "outputs": [
    {
     "data": {
      "text/plain": [
       "{'results': [{'active_nodes': 17.7318,\n",
       "   'expected_active_nodes': 11.592750668449108,\n",
       "   'expected_revenue': 218.38104584224516,\n",
       "   'revenue': 355.3439769999867}]}"
      ]
     },
     "execution_count": 14,
     "metadata": {},
     "output_type": "execute_result"
    }
   ],
   "source": [
    "import requests\n",
    "import json\n",
    "\n",
    "url = 'http://127.0.0.1:5000/monte-carlo'\n",
    "\n",
    "params = {\n",
    "    \"coupons_collection\":[\n",
    "        [{\"accThreshold\": 17.95,\n",
    "         \"accItemset\": \"B000R99IFC\",\n",
    "         \"discount\": 17.52,\n",
    "         \"disItemset\": \"B000JX5JGI\"},]\n",
    "    ]\n",
    "    }\n",
    "response = requests.post(url, json=params)\n",
    "response.json()"
   ]
  }
 ],
 "metadata": {
  "kernelspec": {
   "display_name": "env",
   "language": "python",
   "name": "python3"
  },
  "language_info": {
   "codemirror_mode": {
    "name": "ipython",
    "version": 3
   },
   "file_extension": ".py",
   "mimetype": "text/x-python",
   "name": "python",
   "nbconvert_exporter": "python",
   "pygments_lexer": "ipython3",
   "version": "3.11.9"
  },
  "orig_nbformat": 4
 },
 "nbformat": 4,
 "nbformat_minor": 2
}
