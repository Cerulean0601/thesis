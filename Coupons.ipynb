{
 "cells": [
  {
   "cell_type": "code",
   "execution_count": 1,
   "metadata": {},
   "outputs": [
    {
     "name": "stdout",
     "output_type": "stream",
     "text": [
      "16\n"
     ]
    }
   ],
   "source": [
    "import sys\n",
    "sys.path.append('./package/')\n",
    "\n",
    "import networkx as nx\n",
    "\n",
    "from package.utils import read_items, getItemsPrice\n",
    "from package.topic import TopicModel\n",
    "from package.itemset import ItemRelation, ItemsetFlyweight\n",
    "from package.model import DiffusionModel\n",
    "from package.algorithm import Algorithm\n",
    "\n",
    "ITEMS_FILE = r\"D:\\\\論文實驗\\\\data\\\\amazon\\\\sample_items.csv\"\n",
    "items = read_items(ITEMS_FILE)\n",
    "for key, attr in items.items():\n",
    "    if \"price\" not in attr:\n",
    "        del items[key]\n",
    "        \n",
    "topicModel = TopicModel(3)\n",
    "topicModel.randomTopic(items_id=items.keys())\n",
    "\n",
    "graph = nx.diamond_graph()\n",
    "\n",
    "relation = ItemRelation()\n",
    "relation.construct(ITEMS_FILE)\n",
    "itemset = ItemsetFlyweight(getItemsPrice(ITEMS_FILE), topicModel, relation)\n",
    "\n",
    "model = DiffusionModel(\"amazon in dblp\", graph, itemset, threshold=10**(-5))\n",
    "algo = Algorithm(model, 10)\n",
    "candidatedCoupons = algo.genAllCoupons(20.0)\n",
    "print(len(candidatedCoupons))"
   ]
  },
  {
   "cell_type": "code",
   "execution_count": 2,
   "metadata": {},
   "outputs": [
    {
     "name": "stdout",
     "output_type": "stream",
     "text": [
      "12.31, B000VYIUJS, 5.0, B000VYIUJS\n",
      "12.31, B000VYIUJS, 5.0, B000JX5JGI\n",
      "12.31, B000VYIUJS, 5.0, B000JX5JGI B000VYIUJS\n",
      "12.31, B000VYIUJS, 25.0, B000JX5JGI B000VYIUJS\n",
      "18.99, B000JX5JGI, 5.0, B000VYIUJS\n",
      "18.99, B000JX5JGI, 5.0, B000JX5JGI\n",
      "18.99, B000JX5JGI, 5.0, B000JX5JGI B000VYIUJS\n",
      "18.99, B000JX5JGI, 25.0, B000JX5JGI B000VYIUJS\n",
      "12.31, B000JX5JGI B000VYIUJS, 5.0, B000VYIUJS\n",
      "12.31, B000JX5JGI B000VYIUJS, 5.0, B000JX5JGI\n",
      "12.31, B000JX5JGI B000VYIUJS, 5.0, B000JX5JGI B000VYIUJS\n",
      "12.31, B000JX5JGI B000VYIUJS, 25.0, B000JX5JGI B000VYIUJS\n",
      "32.31, B000JX5JGI B000VYIUJS, 5.0, B000VYIUJS\n",
      "32.31, B000JX5JGI B000VYIUJS, 5.0, B000JX5JGI\n",
      "32.31, B000JX5JGI B000VYIUJS, 5.0, B000JX5JGI B000VYIUJS\n",
      "32.31, B000JX5JGI B000VYIUJS, 25.0, B000JX5JGI B000VYIUJS\n"
     ]
    }
   ],
   "source": [
    "NUM = 16\n",
    "for i in range(NUM):\n",
    "    print(candidatedCoupons[i])"
   ]
  },
  {
   "cell_type": "code",
   "execution_count": null,
   "metadata": {},
   "outputs": [],
   "source": []
  }
 ],
 "metadata": {
  "kernelspec": {
   "display_name": "env",
   "language": "python",
   "name": "python3"
  },
  "language_info": {
   "codemirror_mode": {
    "name": "ipython",
    "version": 3
   },
   "file_extension": ".py",
   "mimetype": "text/x-python",
   "name": "python",
   "nbconvert_exporter": "python",
   "pygments_lexer": "ipython3",
   "version": "3.10.7"
  },
  "orig_nbformat": 4
 },
 "nbformat": 4,
 "nbformat_minor": 2
}
