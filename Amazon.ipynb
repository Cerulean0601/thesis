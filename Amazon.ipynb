{
 "cells": [
  {
   "cell_type": "markdown",
   "id": "aa2a4755",
   "metadata": {},
   "source": [
    "The [dataset](https://jmcauley.ucsd.edu/data/amazon_v2/index.html) is metadata for Magazine Subscriptions category"
   ]
  },
  {
   "cell_type": "code",
   "execution_count": 2,
   "id": "3922f187-f704-4399-97eb-3db8aaad7e1d",
   "metadata": {},
   "outputs": [],
   "source": [
    "import sys\n",
    "\n",
    "IN_COLAB = 'google.colab' in sys.modules\n",
    "DIR_PATH = \"\"\n",
    "\n",
    "if IN_COLAB:\n",
    "    from google.colab import drive\n",
    "    drive.mount(\"/content/dirve\")\n",
    "    DIR_PATH = r\"/content/dirve/MyDrive/研究所/Data/dblp/\"\n",
    "    sys.path.append('/content/dirve/MyDrive/Colab Notebooks/package')\n",
    "else:\n",
    "    DIR_PATH = r\"D:\\\\論文實驗\\\\data\\\\dblp\\\\\"\n",
    "    sys.path.append('D:\\\\論文實驗\\\\package')\n",
    "    sys.path.append(\"D:\\\\論文實驗\\\\env\\\\Lib\\\\site-packages\")"
   ]
  },
  {
   "cell_type": "code",
   "execution_count": 12,
   "id": "b8854303-1b98-414c-a583-a70752f4a50d",
   "metadata": {},
   "outputs": [
    {
     "name": "stdout",
     "output_type": "stream",
     "text": [
      "dict_keys(['category', 'tech1', 'description', 'fit', 'title', 'also_buy', 'tech2', 'brand', 'feature', 'rank', 'also_view', 'details', 'main_cat', 'similar_item', 'date', 'price', 'asin', 'imageURL', 'imageURLHighRes'])\n"
     ]
    }
   ],
   "source": [
    "import pandas as pd\n",
    "\n",
    "DIR_PATH = r\"D:\\\\論文實驗\\\\data\\\\amazon\\\\\"\n",
    "DATASET = r\"meta_Magazine_Subscriptions.json\"\n",
    "\n",
    "def existASIN():\n",
    "    '''\n",
    "        check whether ASIN of the item is existing.\n",
    "        \n",
    "        Result: \n",
    "            all of the items exist ASIN of the properties.\n",
    "    '''\n",
    "    with open(DIR_PATH + DATASET, \"r\") as f:\n",
    "        data = pd.read_json(f, orient=\"records\", typ=\"series\", lines=True)\n",
    "    \n",
    "        for item in data:\n",
    "            if \"ASIN\" not in item and \"asin\" not in item:\n",
    "                print(item)\n",
    "\n",
    "with open(DIR_PATH + DATASET, \"r\") as f:\n",
    "    data = pd.read_json(f, orient=\"records\", typ=\"series\", lines=True)\n",
    "    print(data[0].keys())\n"
   ]
  },
  {
   "cell_type": "markdown",
   "id": "a8f99070-2fa6-44f6-9899-410c600a0ddb",
   "metadata": {},
   "source": [
    "### 需要保留的商品屬性\n",
    "- asin\n",
    "- also_view\n",
    "- also_buy\n",
    "- category\n",
    "- price\n",
    "\n",
    "可能會跟預期的不一樣 找原因\n",
    "以論文當作使用者的topic 商品 topic\n",
    "相關度很低 會不會有甚麼問題和其他建議"
   ]
  },
  {
   "cell_type": "code",
   "execution_count": null,
   "id": "6793ca8f-f09d-4b68-a210-5c87a9ad58fd",
   "metadata": {},
   "outputs": [],
   "source": []
  }
 ],
 "metadata": {
  "kernelspec": {
   "display_name": "Python 3 (ipykernel)",
   "language": "python",
   "name": "python3"
  },
  "language_info": {
   "codemirror_mode": {
    "name": "ipython",
    "version": 3
   },
   "file_extension": ".py",
   "mimetype": "text/x-python",
   "name": "python",
   "nbconvert_exporter": "python",
   "pygments_lexer": "ipython3",
   "version": "3.10.7"
  },
  "vscode": {
   "interpreter": {
    "hash": "02780483269052b0ddef6a1fd82b82d2be0dd99a863ba9a6369e5e299a35d3c6"
   }
  }
 },
 "nbformat": 4,
 "nbformat_minor": 5
}
