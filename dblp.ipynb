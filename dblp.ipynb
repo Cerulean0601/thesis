{
 "cells": [
  {
   "cell_type": "markdown",
   "metadata": {
    "id": "KLo9jjs2Iv0H"
   },
   "source": [
    "[Dataset](https://www.aminer.org/citation)"
   ]
  },
  {
   "cell_type": "code",
   "execution_count": null,
   "metadata": {
    "id": "nGX0uzun0lpC"
   },
   "outputs": [],
   "source": [
    "import os\n",
    "\n",
    "def preprocessing(filename = \"dblpv13.json\"):\n",
    "  '''\n",
    "    將NumberInt(N)置換成整數N\n",
    "\n",
    "    TODO: 111/9/6 bigjson替換成ijson\n",
    "  '''\n",
    "\n",
    "  with open(GDRIVE_PATH + filename, \"r\") as f:\n",
    "    with open(GDRIVE_PATH + \"output\", \"w\") as outputFile:\n",
    "      while True:\n",
    "        content = f.readline()\n",
    "        if content == \"\": \n",
    "          break\n",
    "\n",
    "        erasePosStart = content.find(\"NumberInt(\")\n",
    "        if erasePosStart != -1:\n",
    "          erasePosEnd = content.find(\")\", erasePosStart)\n",
    "          content = content[:erasePosStart] + \\\n",
    "                content[erasePosStart+10 : erasePosEnd] + \\\n",
    "                content[erasePosEnd+1:]\n",
    "\n",
    "        outputFile.write(content)\n",
    "  try:\n",
    "    f = open(GDRIVE_PATH + \"output\", \"rb\")\n",
    "    jsonFormat = bigjson.load(f)\n",
    "    size = len(jsonFormat)\n",
    "  except Exception as e:\n",
    "    print(str(e))\n",
    "    return\n",
    "  else:\n",
    "    os.remove(GDRIVE_PATH + filename)\n",
    "    os.rename(GDRIVE_PATH + \"output\", GDRIVE_PATH + filename)\n"
   ]
  },
  {
   "cell_type": "code",
   "execution_count": null,
   "metadata": {
    "id": "njKqns0f5Zqj"
   },
   "outputs": [],
   "source": [
    "import ijson\n",
    "from os.path import exists\n",
    "\n",
    "def captureNodes():\n",
    "  '''\n",
    "  從原始資料集中擷取authers的id作為節點，並且排除掉重複後輸出至node\n",
    "  '''\n",
    "  nodes = set()\n",
    "  with open(GDRIVE_PATH + \"dblp.json\", \"rb\") as f:\n",
    "    authors = ijson.items(f, \"item\")\n",
    "    author = \"\"\n",
    "    try:\n",
    "      for author in authors:\n",
    "        if \"_id\" in author:\n",
    "          nodes.add(author[\"_id\"])\n",
    "    except Exception as e:\n",
    "      print(author)\n",
    "          \n",
    "  with open(GDRIVE_PATH + \"nodes\", \"w\") as output:\n",
    "    for node in nodes:\n",
    "      output.write(\"\\\"\" + node + \"\\\"\\n\")\n",
    "\n",
    "def captureEdges():\n",
    "  '''\n",
    "  若任兩個節點只要有一篇共同著作，則視為有邊連在一起\n",
    "  '''\n",
    "  output = open(GDRIVE_PATH + \"edges\", \"w\")\n",
    "  with open(GDRIVE_PATH + \"dblp.json\", \"rb\") as f:\n",
    "    parser = ijson.parse(f)\n",
    "    for prefix, event, value in parser:\n",
    "      if prefix == \"item.authors\" and event == \"start_array\":\n",
    "        authorsInSamePaper = set()\n",
    "        while event != \"end_array\":\n",
    "          prefix, event, value = next(parser)\n",
    "          if prefix == \"item.authors.item._id\":\n",
    "            authorsInSamePaper.add(value)\n",
    "            \n",
    "        for c in combinations(authorsInSamePaper, 2):\n",
    "          output.write(c[0] + \",\" + c[1] + \"\\n\")\n",
    "          \n",
    "\n",
    "# def accumulateDegrees(bucket: set, nodeID: str):\n",
    "#   if nodeID not in bucket:\n",
    "#     bucket[nodeID] = 1\n",
    "#   else:\n",
    "#     bucket[nodeID] += 1\n",
    "\n",
    "# def statisticizeDegrees():\n",
    "#   # ERROR!! if degree of a node is zero, this node isn't appended.\n",
    "#   if not exists(GDRIVE_PATH + \"edges\"):\n",
    "#     raise Exception(\"Check both of the files(node and edges) is exist.\")\n",
    "\n",
    "#   degrees = dict()\n",
    "\n",
    "#   with open(GDRIVE_PATH + \"edges\", \"r\") as input:\n",
    "#     for line in input:\n",
    "#       src, dit = line.split(\",\")\n",
    "#       accumulateDegrees(degrees, src)\n",
    "#       accumulateDegrees(degrees, dit[:-1]) # remove newline\n",
    "#   sortedDegrees = {node: degree for node, degree in \n",
    "#                    sorted(degrees.items(), key=lambda item: item[1], reverse=True)}\n",
    "#   return sortedDegrees\n",
    "  "
   ]
  },
  {
   "cell_type": "code",
   "execution_count": 1,
   "metadata": {
    "colab": {
     "base_uri": "https://localhost:8080/"
    },
    "executionInfo": {
     "elapsed": 15561,
     "status": "ok",
     "timestamp": 1665457440579,
     "user": {
      "displayName": "HeJi Sky",
      "userId": "17996262020646699163"
     },
     "user_tz": -480
    },
    "id": "8pZsK6w6Z5aM",
    "outputId": "c8fd8f63-1fb8-4c0a-860a-316ba3f9c56a"
   },
   "outputs": [],
   "source": [
    "import sys\n",
    "\n",
    "IN_COLAB = 'google.colab' in sys.modules\n",
    "GDRIVE_PATH = \"\"\n",
    "\n",
    "if IN_COLAB:\n",
    "    from google.colab import drive\n",
    "    drive.mount(\"/content/dirve\")\n",
    "    GDRIVE_PATH = r\"/content/dirve/MyDrive/研究所/Data/dblp/\"\n",
    "    sys.path.append('/content/dirve/MyDrive/Colab Notebooks/package')\n",
    "else:\n",
    "    GDRIVE_PATH = r\"D:\\\\論文實驗\\\\data\\\\dblp\\\\\"\n",
    "    sys.path.append('D:\\\\論文實驗\\\\package')\n",
    "    sys.path.append(\"D:\\\\論文實驗\\\\thesis\\\\Lib\\\\site-packages\")"
   ]
  },
  {
   "cell_type": "code",
   "execution_count": 2,
   "metadata": {
    "colab": {
     "base_uri": "https://localhost:8080/"
    },
    "executionInfo": {
     "elapsed": 2,
     "status": "ok",
     "timestamp": 1664524239200,
     "user": {
      "displayName": "HeJi Sky",
      "userId": "17996262020646699163"
     },
     "user_tz": -480
    },
    "id": "PY3-d9YdvJyV",
    "outputId": "35271272-7498-4779-b013-bf02c81f069e"
   },
   "outputs": [
    {
     "name": "stderr",
     "output_type": "stream",
     "text": [
      "......\n",
      "----------------------------------------------------------------------\n",
      "Ran 6 tests in 0.006s\n",
      "\n",
      "OK\n"
     ]
    }
   ],
   "source": [
    "import networkx as nx \n",
    "import unittest\n",
    "\n",
    "def suite():\n",
    "    return unittest.defaultTestLoader.discover(\"./test/\")\n",
    "    \n",
    "if __name__ == \"__main__\":\n",
    "    \n",
    "    testRunner = unittest.TextTestRunner()\n",
    "    testRunner.run(suite())\n",
    "    \n",
    "    # graph = SN_Graph()\n",
    "    # graph.construct(GDRIVE_PATH + \"edges\")\n",
    "\n",
    "    # graph = SN_Graph()\n",
    "    # nx.add_path(graph, [0,1,2,3,1], weight=1)\n",
    "    # nx.add_path(graph, [3,2], weight = 0.7)\n",
    "\n"
   ]
  },
  {
   "cell_type": "code",
   "execution_count": 5,
   "metadata": {
    "colab": {
     "base_uri": "https://localhost:8080/",
     "height": 185
    },
    "executionInfo": {
     "elapsed": 2,
     "status": "error",
     "timestamp": 1664509093323,
     "user": {
      "displayName": "HeJi Sky",
      "userId": "17996262020646699163"
     },
     "user_tz": -480
    },
    "id": "W-2duDr39B_6",
    "outputId": "d5158266-e7c9-4241-8b7e-a096b1061c36"
   },
   "outputs": [
    {
     "ename": "NameError",
     "evalue": "name 'graph' is not defined",
     "output_type": "error",
     "traceback": [
      "\u001b[1;31m---------------------------------------------------------------------------\u001b[0m",
      "\u001b[1;31mNameError\u001b[0m                                 Traceback (most recent call last)",
      "Cell \u001b[1;32mIn [5], line 1\u001b[0m\n\u001b[1;32m----> 1\u001b[0m \u001b[43mgraph\u001b[49m\u001b[38;5;241m.\u001b[39mrandom_topic(\u001b[38;5;241m5\u001b[39m)\n\u001b[0;32m      2\u001b[0m \u001b[38;5;28mprint\u001b[39m(nx\u001b[38;5;241m.\u001b[39mget_node_attributes(graph, \u001b[38;5;124m\"\u001b[39m\u001b[38;5;124mtopic\u001b[39m\u001b[38;5;124m\"\u001b[39m))\n",
      "\u001b[1;31mNameError\u001b[0m: name 'graph' is not defined"
     ]
    }
   ],
   "source": [
    "graph.random_topic(5)\n",
    "print(nx.get_node_attributes(graph, \"topic\"))"
   ]
  },
  {
   "cell_type": "code",
   "execution_count": null,
   "metadata": {
    "colab": {
     "base_uri": "https://localhost:8080/"
    },
    "executionInfo": {
     "elapsed": 850,
     "status": "ok",
     "timestamp": 1663743235051,
     "user": {
      "displayName": "HeJi Sky",
      "userId": "17996262020646699163"
     },
     "user_tz": -480
    },
    "id": "eZNQubSRi4Zn",
    "outputId": "a92c99ed-459d-4014-de81-bfeaa92817c0"
   },
   "outputs": [
    {
     "data": {
      "text/plain": [
       "[('53f45728dabfaec09f209538', 10),\n",
       " ('5601754345cedb3395e59457', 1),\n",
       " ('53f43d25dabfaeecd6995149', 2),\n",
       " ('5601754345cedb3395e5945a', 3),\n",
       " ('53f38438dabfae4b34a08928', 17),\n",
       " ('54328883dabfaeb4c6a8a699', 6),\n",
       " ('53f46797dabfaeb22f542630', 5),\n",
       " ('53f43b03dabfaedce555bf2a', 0),\n",
       " ('53f45ee9dabfaee43ecda842', 3),\n",
       " ('53f42e8cdabfaee1c0a4274e', 2)]"
      ]
     },
     "execution_count": 15,
     "metadata": {},
     "output_type": "execute_result"
    }
   ],
   "source": [
    "list(graph.in_degree)[:10]"
   ]
  },
  {
   "cell_type": "code",
   "execution_count": null,
   "metadata": {
    "colab": {
     "base_uri": "https://localhost:8080/",
     "height": 36
    },
    "executionInfo": {
     "elapsed": 305,
     "status": "ok",
     "timestamp": 1663725927233,
     "user": {
      "displayName": "HeJi Sky",
      "userId": "17996262020646699163"
     },
     "user_tz": -480
    },
    "id": "cn29cpa4prc8",
    "outputId": "1423da40-f9ab-4622-e8fc-d54911e69706"
   },
   "outputs": [
    {
     "data": {
      "application/vnd.google.colaboratory.intrinsic+json": {
       "type": "string"
      },
      "text/plain": [
       "'2.6.3'"
      ]
     },
     "execution_count": 3,
     "metadata": {},
     "output_type": "execute_result"
    }
   ],
   "source": [
    "subgraph = graph.sampling_subgraph(10)"
   ]
  },
  {
   "cell_type": "code",
   "execution_count": null,
   "metadata": {
    "colab": {
     "base_uri": "https://localhost:8080/"
    },
    "executionInfo": {
     "elapsed": 40059,
     "status": "ok",
     "timestamp": 1663673963637,
     "user": {
      "displayName": "HeJi Sky",
      "userId": "17996262020646699163"
     },
     "user_tz": -480
    },
    "id": "58M4JTVIIppO",
    "outputId": "0a7f79fc-0993-434b-e26e-74e0933c0e50"
   },
   "outputs": [
    {
     "name": "stdout",
     "output_type": "stream",
     "text": [
      "1818152\n",
      "1818152\n"
     ]
    },
    {
     "name": "stderr",
     "output_type": "stream",
     "text": [
      "IOPub data rate exceeded.\n",
      "The notebook server will temporarily stop sending output\n",
      "to the client in order to avoid crashing it.\n",
      "To change this limit, set the config variable\n",
      "`--NotebookApp.iopub_data_rate_limit`.\n",
      "\n",
      "Current values:\n",
      "NotebookApp.iopub_data_rate_limit=1000000.0 (bytes/sec)\n",
      "NotebookApp.rate_limit_window=3.0 (secs)\n",
      "\n"
     ]
    }
   ],
   "source": [
    "print(subgraph.number_of_edges())\n",
    "print(subgraph.size())\n",
    "print(subgraph.edges)"
   ]
  },
  {
   "cell_type": "code",
   "execution_count": null,
   "metadata": {
    "colab": {
     "base_uri": "https://localhost:8080/"
    },
    "executionInfo": {
     "elapsed": 2425,
     "status": "ok",
     "timestamp": 1663673994109,
     "user": {
      "displayName": "HeJi Sky",
      "userId": "17996262020646699163"
     },
     "user_tz": -480
    },
    "id": "30jTaUSDJTcF",
    "outputId": "98475f30-ffc0-4b88-bfde-f7aa146b3d3f"
   },
   "outputs": [
    {
     "name": "stdout",
     "output_type": "stream",
     "text": [
      "710064\n",
      "710064\n"
     ]
    },
    {
     "name": "stderr",
     "output_type": "stream",
     "text": [
      "IOPub data rate exceeded.\n",
      "The notebook server will temporarily stop sending output\n",
      "to the client in order to avoid crashing it.\n",
      "To change this limit, set the config variable\n",
      "`--NotebookApp.iopub_data_rate_limit`.\n",
      "\n",
      "Current values:\n",
      "NotebookApp.iopub_data_rate_limit=1000000.0 (bytes/sec)\n",
      "NotebookApp.rate_limit_window=3.0 (secs)\n",
      "\n"
     ]
    }
   ],
   "source": [
    "print(subgraph.number_of_nodes())\n",
    "print(len(subgraph))\n",
    "print(subgraph.nodes)"
   ]
  },
  {
   "cell_type": "code",
   "execution_count": null,
   "metadata": {
    "colab": {
     "base_uri": "https://localhost:8080/"
    },
    "executionInfo": {
     "elapsed": 5,
     "status": "ok",
     "timestamp": 1663673220395,
     "user": {
      "displayName": "HeJi Sky",
      "userId": "17996262020646699163"
     },
     "user_tz": -480
    },
    "id": "tGlsP7uaJmzO",
    "outputId": "4821e7f7-1c93-411a-c1ab-4e7666b13347"
   },
   "outputs": [
    {
     "name": "stdout",
     "output_type": "stream",
     "text": [
      "[('542ab4f0dabfae2b4e134367', 0), ('544082a6dabfae805a6c8d50', 0), ('5606ebca45cedb3396996b4a', 0), ('53f44d3bdabfaee43ec98f1a', 0), ('53f431dddabfaee0d9b35ef7', 0), ('53f439c9dabfaedd74dbfca0', 0), ('53f44001dabfaeee229e69b6', 0), ('53f42eb6dabfaee2a1c8d9dc', 0), ('53f42d57dabfaee02ac605d0', 0), ('5489b9c3dabfae9b40134c9a', 0)]\n"
     ]
    }
   ],
   "source": [
    "print(subgraph.degree(list(subgraph.nodes)))"
   ]
  },
  {
   "cell_type": "markdown",
   "metadata": {
    "id": "DASSjciQ1eaa"
   },
   "source": [
    "![image](https://cdn.discordapp.com/attachments/498518865802952706/1019575970103050240/unknown.png)"
   ]
  },
  {
   "cell_type": "code",
   "execution_count": null,
   "metadata": {
    "colab": {
     "base_uri": "https://localhost:8080/"
    },
    "executionInfo": {
     "elapsed": 1782,
     "status": "ok",
     "timestamp": 1663645677649,
     "user": {
      "displayName": "HeJi Sky",
      "userId": "17996262020646699163"
     },
     "user_tz": -480
    },
    "id": "GhBBk3ccONl_",
    "outputId": "21b0fe8a-7552-415e-e23a-669666d9a512"
   },
   "outputs": [
    {
     "name": "stdout",
     "output_type": "stream",
     "text": [
      "number of edges:2185408\n",
      "number of nodes:834826\n"
     ]
    }
   ],
   "source": [
    "numEdges = 0\n",
    "with open(GDRIVE_PATH + \"edges\", \"r\") as f:\n",
    "  for line in f:\n",
    "    numEdges += 1\n",
    "print(\"number of edges:\" + str(numEdges))\n",
    "\n",
    "numNodes = 0\n",
    "with open(GDRIVE_PATH + \"nodes\", \"r\") as f:\n",
    "  for line in f:\n",
    "    numNodes += 1\n",
    "print(\"number of nodes:\" + str(numNodes))"
   ]
  },
  {
   "cell_type": "code",
   "execution_count": null,
   "metadata": {
    "id": "NqohxEUOQZ3O"
   },
   "outputs": [],
   "source": [
    "with open(GDRIVE_PATH + \"degrees\", \"r\") as f:\n",
    "  for line in range(100):\n",
    "    print(f.readline(), end=\"\")"
   ]
  },
  {
   "cell_type": "code",
   "execution_count": null,
   "metadata": {
    "colab": {
     "base_uri": "https://localhost:8080/"
    },
    "executionInfo": {
     "elapsed": 447,
     "status": "ok",
     "timestamp": 1663813895519,
     "user": {
      "displayName": "HeJi Sky",
      "userId": "17996262020646699163"
     },
     "user_tz": -480
    },
    "id": "FgXYsajwo-ST",
    "outputId": "d8ac2059-3c86-4055-fdfe-a785b0cfda0a"
   },
   "outputs": [
    {
     "name": "stdout",
     "output_type": "stream",
     "text": [
      "[\n",
      "{ \n",
      "    \"_id\" : \"53e99784b7602d9701f3e3f5\", \n",
      "    \"title\" : \"3GIO.\", \n",
      "    \"venue\" : {\n",
      "        \"type\" : 0\n",
      "    }, \n",
      "    \"year\" : 2011, \n",
      "    \"keywords\" : [\n",
      "\n",
      "    ], \n",
      "    \"n_citation\" : 0, \n",
      "    \"lang\" : \"en\"\n",
      "},\n",
      "{ \n",
      "    \"_id\" : \"53e99784b7602d9701f3e133\", \n",
      "    \"title\" : \"The relationship between canopy parameters and spectrum of winter wheat under different irrigations in Hebei Province.\", \n",
      "    \"authors\" : [\n",
      "        {\n",
      "            \"_id\" : \"53f45728dabfaec09f209538\", \n",
      "            \"name\" : \"Peijuan Wang\"\n",
      "        }, \n",
      "        {\n",
      "            \"_id\" : \"5601754345cedb3395e59457\", \n",
      "            \"name\" : \"Jiahua Zhang\"\n",
      "        }, \n",
      "        {\n",
      "            \"_id\" : \"53f38438dabfae4b34a08928\", \n",
      "            \"name\" : \"Donghui Xie\"\n",
      "        }, \n",
      "        {\n",
      "            \"_id\" : \"5601754345cedb3395e5945a\", \n",
      "            \"name\" : \"Yanyan Xu\"\n",
      "        }, \n",
      "        {\n",
      "            \"_id\" : \"53f43d25dabfaeecd6995149\", \n",
      "            \"name\" : \"Yun Xu\"\n",
      "        }\n",
      "    ], \n",
      "    \"venue\" : {\n",
      "        \"_id\" : \"53a7297d20f7420be8bd4ae7\", \n",
      "        \"name_d\" : \"International Geoscience and Remote Sensing Symposium\", \n",
      "        \"type\" : 0, \n",
      "        \"raw\" : \"IGARSS\"\n",
      "    }, \n",
      "    \"year\" : 2011, \n",
      "    \"keywords\" : [\n",
      "        \"canopy parameters\", \n",
      "        \"canopy spectrum\", \n",
      "        \"different soil water content control\", \n",
      "        \"winter wheat\", \n",
      "        \"irrigation\", \n",
      "        \"hydrology\", \n",
      "        \"radiometry\", \n",
      "        \"moisture\", \n",
      "        \"indexes\", \n",
      "        \"vegetation\", \n",
      "        \"indexation\", \n",
      "        \"dry weight\", \n",
      "        \"soil moisture\", \n",
      "        \"water content\", \n",
      "        \"indexing terms\", \n",
      "        \"spectrum\", \n",
      "        \"natural disaster\"\n",
      "    ], \n",
      "    \"fos\" : [\n",
      "        \"Agronomy\", \n",
      "        \"Moisture\", \n",
      "        \"Hydrology\", \n",
      "        \"Environmental science\", \n",
      "        \"Dry weight\", \n",
      "        \"Water content\", \n",
      "        \"Stomatal conductance\", \n",
      "        \"Transpiration\", \n",
      "        \"Irrigation\", \n",
      "        \"Soil water\", \n",
      "        \"Canopy\"\n",
      "    ], \n",
      "    \"n_citation\" : 0, \n",
      "    \"page_start\" : \"1930\", \n",
      "    \"page_end\" : \"1933\", \n",
      "    \"lang\" : \"en\", \n",
      "    \"volume\" : \"null\", \n",
      "    \"issue\" : \"null\", \n",
      "    \"issn\" : \"\", \n",
      "    \"isbn\" : \"\", \n",
      "    \"doi\" : \"10.1109/IGARSS.2011.6049503\", \n",
      "    \"pdf\" : null, \n",
      "    \"url\" : [\n",
      "        \"http://dx.doi.org/10.1109/IGARSS.2011.6049503\"\n",
      "    ], \n",
      "    \"abstract\" : \"Drought is the first place in all the natural disasters in the world. It is especially serious in North China Plain. In this paper, different soil water content control levels at winter wheat growth stages are performed on Gucheng Ecological-Meteorological Integrated Observation Experiment Station of CAMS, China. Some canopy parameters, including growth conditions, dry weight, physiological parameters and hyperspectral reflectance, are measured from erecting stage to milk stage for winter wheat in 2009. The relationship between canopy parameters and soil relative moisture, canopy water content and water indices of winter wheat are established. The results show that some parameters, such as SPAD and dry weight of leaves, decrease with the increasing of soil relative moisture, while other parameters, including dry weight of caudexes, above ground dry weight, height, photosynthesis rate, intercellular CO 2 concentration, stomatal conductance and transpiration rate, increase corresponding to the soil relative moisture. Obvious linear relationship between stomatal conductance and transpiration rate is established with 45 samples, which R2 reaches to 0.6152. Finally, the fitting equations between canopy water content and water indices are regressed with b5, b6 and b7 of MODIS bands. The equations are best with b7 and worst with b5. So the fitting equations with b7 can be used to inverse the canopy water content of winter wheat using MODIS or other remote sensing images with similar bands range to MODIS in Hebei Province. © 2011 IEEE.\"\n",
      "},\n",
      "{ \n",
      "    \"_id\" : \"53e99784b7602d9701f3e151\", \n",
      "    \"title\" : \"A solution to the problem of touching and broken characters.\", \n",
      "    \"authors\" : [\n",
      "        {\n",
      "            \"_id\" : \"53f46797dabfaeb22f542630\", \n",
      "            \"name\" : \"Jairo Rocha\"\n"
     ]
    }
   ],
   "source": [
    "with open(GDRIVE_PATH + \"dblp.json\", \"r\") as f:\n",
    "  for line in range(100):\n",
    "    print(f.readline(), end=\"\")"
   ]
  },
  {
   "cell_type": "code",
   "execution_count": 9,
   "metadata": {},
   "outputs": [
    {
     "data": {
      "text/plain": [
       "['D:\\\\論文實驗',\n",
       " 'C:\\\\Users\\\\user\\\\AppData\\\\Local\\\\Programs\\\\Python\\\\Python310\\\\python310.zip',\n",
       " 'C:\\\\Users\\\\user\\\\AppData\\\\Local\\\\Programs\\\\Python\\\\Python310\\\\DLLs',\n",
       " 'C:\\\\Users\\\\user\\\\AppData\\\\Local\\\\Programs\\\\Python\\\\Python310\\\\lib',\n",
       " 'C:\\\\Users\\\\user\\\\AppData\\\\Local\\\\Programs\\\\Python\\\\Python310',\n",
       " '',\n",
       " 'C:\\\\Users\\\\user\\\\AppData\\\\Local\\\\Programs\\\\Python\\\\Python310\\\\lib\\\\site-packages',\n",
       " 'C:\\\\Users\\\\user\\\\AppData\\\\Local\\\\Programs\\\\Python\\\\Python310\\\\lib\\\\site-packages\\\\win32',\n",
       " 'C:\\\\Users\\\\user\\\\AppData\\\\Local\\\\Programs\\\\Python\\\\Python310\\\\lib\\\\site-packages\\\\win32\\\\lib',\n",
       " 'C:\\\\Users\\\\user\\\\AppData\\\\Local\\\\Programs\\\\Python\\\\Python310\\\\lib\\\\site-packages\\\\Pythonwin',\n",
       " '/package',\n",
       " '/package',\n",
       " '/thesis/Lib/site-packages',\n",
       " 'D:\\\\論文實驗\\\\thesis\\\\Lib\\\\site-packages']"
      ]
     },
     "execution_count": 9,
     "metadata": {},
     "output_type": "execute_result"
    }
   ],
   "source": [
    "import sys\n",
    "sys.path"
   ]
  },
  {
   "cell_type": "code",
   "execution_count": 8,
   "metadata": {},
   "outputs": [],
   "source": []
  },
  {
   "cell_type": "code",
   "execution_count": null,
   "metadata": {},
   "outputs": [],
   "source": []
  }
 ],
 "metadata": {
  "colab": {
   "authorship_tag": "ABX9TyP/WAx3ZLBwLZPjF89nzW9W",
   "collapsed_sections": [],
   "provenance": []
  },
  "kernelspec": {
   "display_name": "Python 3 (ipykernel)",
   "language": "python",
   "name": "python3"
  },
  "language_info": {
   "codemirror_mode": {
    "name": "ipython",
    "version": 3
   },
   "file_extension": ".py",
   "mimetype": "text/x-python",
   "name": "python",
   "nbconvert_exporter": "python",
   "pygments_lexer": "ipython3",
   "version": "3.10.7"
  }
 },
 "nbformat": 4,
 "nbformat_minor": 4
}
