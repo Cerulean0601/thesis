{
 "cells": [
  {
   "cell_type": "markdown",
   "metadata": {},
   "source": [
    "## 確認收斂次數"
   ]
  },
  {
   "cell_type": "code",
   "execution_count": 1,
   "metadata": {},
   "outputs": [],
   "source": [
    "import unittest\n",
    "from time import time, ctime\n",
    "\n",
    "# CONSTANT\n",
    "DATA_ROOT = \"./data\"\n",
    "DBLP_PATH = DATA_ROOT + \"/dblp\"\n",
    "AMAZON_PATH = DATA_ROOT + \"/amazon\"\n",
    "FACEBOOK_PATH = DATA_ROOT + \"/facebook\"\n",
    "NOTIFY_ENDPOINT = r\"https://notify.run/O6EfLmG6Tof1s5DljYB7\"\n",
    "\n",
    "\n",
    "import pandas as pd\n",
    "\n",
    "from package.model import DiffusionModel\n",
    "from package.topic import TopicModel\n",
    "from package.social_graph import SN_Graph\n",
    "from package.itemset import ItemsetFlyweight, ItemRelation\n",
    "from package.utils import getItemsPrice, read_items\n",
    "from package.algorithm import Algorithm\n",
    "from package.coupon import Coupon\n",
    "\n",
    "NUM_TOPICS = 5\n",
    "TOPICS = {\n",
    "    \"Node\": {\n",
    "        \"0\": [0.9, 0.1, 0.0],\n",
    "        \"1\": [0.2, 0.8, 0.0],\n",
    "        \"2\": [0.8, 0.2, 0.0],\n",
    "        \"3\": [0.2, 0.4, 0.4],\n",
    "    },\n",
    "    \"Item\": {\n",
    "        \"iPhone\": [0.7, 0.0, 0.3],\n",
    "        \"AirPods\": [0.9, 0.0, 0.1],\n",
    "        \"Galaxy\": [0.0, 0.8, 0.2],\n",
    "    }\n",
    "}\n",
    "PRICES = {\n",
    "    \"iPhone\": 50,\n",
    "    \"AirPods\": 5,\n",
    "    \"Galaxy\": 60,\n",
    "}\n",
    "RELATION = pd.DataFrame.from_dict({\n",
    "            \"iPhone\":{\n",
    "                \"AirPods\":10,\n",
    "                \"Galaxy\":-5\n",
    "            },\n",
    "            \"AirPods\":{\n",
    "                \"iPhone\":1,\n",
    "                \"Galaxy\":0,\n",
    "            },\n",
    "            \"Galaxy\":{\n",
    "                \"iPhone\":-8,\n",
    "                \"AirPods\":1,\n",
    "            }\n",
    "            })"
   ]
  },
  {
   "cell_type": "code",
   "execution_count": 2,
   "metadata": {},
   "outputs": [
    {
     "name": "stdout",
     "output_type": "stream",
     "text": [
      "Constructing graph...\n",
      "Connecting the edges...Done\n"
     ]
    }
   ],
   "source": [
    "items = read_items(AMAZON_PATH + \"/sample_items.csv\")\n",
    "\n",
    "topicModel = TopicModel(NUM_TOPICS)\n",
    "topicModel.read_topics(node_file=FACEBOOK_PATH + \"/nodes_with_\" + str(NUM_TOPICS) + \"_topic.csv\",\n",
    "                        items_file=AMAZON_PATH + \"/items_with_\" + str(NUM_TOPICS) + \"_topic.csv\")\n",
    "\n",
    "graph = SN_Graph.construct(FACEBOOK_PATH + \"/edges\", topicModel, located=False)\n",
    "\n",
    "relation = ItemRelation()\n",
    "relation.construct(AMAZON_PATH + \"/sample_items.csv\")\n",
    "itemset = ItemsetFlyweight(getItemsPrice(AMAZON_PATH + \"/sample_items.csv\"), topicModel, relation)\n",
    "\n",
    "model = DiffusionModel(\"amazon in dblp\", graph, itemset, threshold=0)\n",
    "seed_size = min(itemset.size, graph.number_of_nodes())\n",
    "seeds = model.selectSeeds(seed_size)\n",
    "model.allocate(seeds, [itemset[asin] for asin in itemset.PRICE.keys()])\n",
    "\n",
    "simluation_times = 1\n",
    "algo = Algorithm(model, 0, simulationTimes=simluation_times)\n",
    "candidatedCoupons = [Coupon(20, itemset[\"B000JX5JGI B000VYIUJS\"], 5, itemset[\"B000JX5JGI B000VYIUJS\"])]\n",
    "\n",
    "performanceFile = r\"./result/distribution.txt\"\n",
    "\n",
    "\n",
    "for times in range(0,1):\n",
    "    k=1\n",
    "    algo.setLimitCoupon(k)\n",
    "    model.diffusion()\n",
    "\n",
    "    # with open(performanceFile, \"a\") as record:\n",
    "        \n",
    "    #     record.write(\"{0},runtime={1},revenue={2},expected_revenue={3},active_node={4},expected_active_node={5},times={6}\\n\".format(\n",
    "    #         ctime(end_time),\n",
    "    #         (end_time - start_time),\n",
    "    #         tagger[\"TagRevenue\"].amount(),\n",
    "    #         tagger[\"TagRevenue\"].expected_amount(),\n",
    "    #         tagger[\"TagActiveNode\"].amount(),\n",
    "    #         tagger[\"TagActiveNode\"].expected_amount(),\n",
    "    #         times,\n",
    "    #         ))\n",
    "        \n",
    "    #     for c in outputCoupons:\n",
    "            \n",
    "    #         record.write(str(c) + \"\\n\")\n",
    "    #     record.write(\"\\n\")\n",
    "        "
   ]
  },
  {
   "cell_type": "code",
   "execution_count": null,
   "metadata": {},
   "outputs": [],
   "source": [
    "for u, attr in graph.nodes(data=True):\n",
    "    if not attr[\"adopted_set\"]:\n",
    "        print(\"{}: \")"
   ]
  },
  {
   "cell_type": "code",
   "execution_count": null,
   "metadata": {},
   "outputs": [],
   "source": [
    "length, path = SN_Graph.max_product_path(graph, model.getSeeds())"
   ]
  },
  {
   "cell_type": "code",
   "execution_count": null,
   "metadata": {},
   "outputs": [],
   "source": [
    "bucket = dict()\n",
    "for node, p in path.items():\n",
    "    src = p[0]\n",
    "    if src not in bucket:\n",
    "        bucket[src] = dict()\n",
    "    \n",
    "    itemset = str(algo._graph.nodes[node][\"adopted_set\"])\n",
    "    if itemset not in bucket[src]:\n",
    "        bucket[src][itemset] = 1\n",
    "    else:\n",
    "        bucket[src][itemset] += 1"
   ]
  },
  {
   "cell_type": "code",
   "execution_count": null,
   "metadata": {},
   "outputs": [],
   "source": [
    "seeds = algo._model.getSeeds()\n",
    "for seed in seeds:\n",
    "    graph = algo._model.getGraph()\n",
    "    print(\"{0}: {1}\".format(\"seed\", seed))\n",
    "    for k,v in graph.nodes[seed].items():\n",
    "        print(\"{0}: {1}\".format(k,v))\n",
    "    print()"
   ]
  },
  {
   "cell_type": "code",
   "execution_count": null,
   "metadata": {},
   "outputs": [],
   "source": [
    "import numpy as np\n",
    "colors = {\"B000VYIUJS\":\"64e9c0\", \"B000JX5JGI\": \"cbb446\", \"B000JX5JGI B000VYIUJS\":\"ba9800\"}\n",
    "for k,l in tagger[\"TagDecidedMainItemset\"].items():\n",
    "    print(k)\n",
    "    print(l)\n",
    "    # colors[k] = ((np.random.random(), np.random.random(), np.random.random()))"
   ]
  },
  {
   "cell_type": "code",
   "execution_count": null,
   "metadata": {},
   "outputs": [],
   "source": [
    "import matplotlib.pyplot as plt\n",
    "\n",
    "plt.figure(\"Main Itemset\")\n",
    "for k,v in tagger[\"TagDecidedMainItemset\"].items():\n",
    "    plt.plot(list(range(len(v))), v, 'ko--', color=colors[k], label=k, markerfacecolor='none')\n",
    "plt.title(\"Withput coupons\")\n",
    "plt.xlabel(\"step\")\n",
    "plt.ylabel(\"times of decied main itemset\")\n",
    "plt.legend()"
   ]
  },
  {
   "cell_type": "code",
   "execution_count": null,
   "metadata": {},
   "outputs": [],
   "source": [
    "str(outputCoupons[0])"
   ]
  },
  {
   "cell_type": "markdown",
   "metadata": {},
   "source": [
    "### 可累積商品和累積門檻條件的變化對於使用者CP值感知的影響"
   ]
  },
  {
   "cell_type": "code",
   "execution_count": 7,
   "metadata": {},
   "outputs": [],
   "source": [
    "import pandas as pd\n",
    "\n",
    "from package.model import DiffusionModel\n",
    "from package.topic import TopicModel\n",
    "from package.social_graph import SN_Graph\n",
    "from package.itemset import ItemsetFlyweight, ItemRelation\n",
    "from package.utils import getItemsPrice, read_items\n",
    "from package.algorithm import Algorithm\n",
    "from package.coupon import Coupon\n",
    "from package.user_proxy import UsersProxy\n",
    "\n",
    "NUM_TOPICS = 5\n",
    "TOPICS = {\n",
    "    \"Node\": {\n",
    "        \"0\": [0.9, 0.1, 0.0],\n",
    "        \"1\": [0.2, 0.8, 0.0],\n",
    "        \"2\": [0.8, 0.2, 0.0],\n",
    "        \"3\": [0.2, 0.4, 0.4],\n",
    "    },\n",
    "    \"Item\": {\n",
    "        \"iPhone\": [0.7, 0.0, 0.3],\n",
    "        \"AirPods\": [0.9, 0.0, 0.1],\n",
    "        \"Galaxy\": [0.0, 0.8, 0.2],\n",
    "    }\n",
    "}\n",
    "PRICES = {\n",
    "    \"iPhone\": 260.0,\n",
    "    \"AirPods\": 60.0,\n",
    "    \"Galaxy\": 500.0,\n",
    "}\n",
    "RELATION = pd.DataFrame.from_dict({\n",
    "            \"iPhone\":{\n",
    "                \"AirPods\":10,\n",
    "                \"Galaxy\":-5\n",
    "            },\n",
    "            \"AirPods\":{\n",
    "                \"iPhone\":1,\n",
    "                \"Galaxy\":0,\n",
    "            },\n",
    "            \"Galaxy\":{\n",
    "                \"iPhone\":-8,\n",
    "                \"AirPods\":1,\n",
    "            }\n",
    "            })\n",
    "\n",
    "topicModel = TopicModel(3, TOPICS[\"Node\"], TOPICS[\"Item\"])\n",
    "relation = ItemRelation(RELATION)\n",
    "itemset = ItemsetFlyweight(prices = PRICES, topic = topicModel.getItemsTopic(), relation=relation)\n",
    "graph = SN_Graph(topicModel.getNodesTopic())\n",
    "coupon = Coupon(500, itemset[\"Galaxy\"], itemset[\"AirPods iPhone\"].price*0.6, itemset[\"AirPods iPhone\"])\n",
    "user_proxy = UsersProxy(graph, itemset, [coupon], 0)\n",
    "user_id = \"0\"\n",
    "main_itemset = itemset[\"Galaxy\"]\n",
    "graph.add_node(user_id, adopted_set=None, desired_set=main_itemset, topic=TOPICS[\"Node\"][user_id])"
   ]
  },
  {
   "cell_type": "code",
   "execution_count": 2,
   "metadata": {},
   "outputs": [],
   "source": [
    "import matplotlib.pyplot as plt\n",
    "import numpy as np\n",
    "import pandas as pd\n",
    "\n",
    "step = 20\n",
    "# 可累積商品\n",
    "list_accItemset = [id for id, items in itemset if itemset.issubset(main_itemset, items)]\n",
    "\n",
    "# 累積門檻\n",
    "list_accThreshold = list(np.arange(main_itemset.price, itemset[\"Galaxy iPhone AirPods\"].price+step*10, step))\n",
    "\n",
    "# 折抵商品\n",
    "list_disItemset = [id for id, items in itemset]\n",
    "\n",
    "# 折抵金額\n",
    "list_discount = list(np.arange(0, itemset[\"Galaxy iPhone AirPods\"].price, step=20))\n",
    "\n",
    "multi_index = []\n",
    "data = []\n",
    "results = [] # for debug\n",
    "\n",
    "for acc_itemset_id in list_accItemset:\n",
    "    coupon.accItemset = itemset[acc_itemset_id]\n",
    "\n",
    "    for threshold in list_accThreshold:\n",
    "        coupon.accThreshold = threshold\n",
    "\n",
    "        for dis_itemset_id in list_disItemset:\n",
    "            coupon.disItemset = itemset[dis_itemset_id]\n",
    "\n",
    "            for discount in list_discount:\n",
    "                coupon.discount = discount\n",
    "\n",
    "                user_proxy.setCoupons([coupon])\n",
    "            \n",
    "                result = user_proxy.adopt(user_id)\n",
    "                results.append(result)\n",
    "\n",
    "                # reset\n",
    "                graph._initNode(user_id)\n",
    "                graph.nodes[user_id][\"desired_set\"] = main_itemset\n",
    "                \n",
    "                multi_index.append((acc_itemset_id, threshold, dis_itemset_id, discount))\n",
    "                data.append([result[\"VP\"], result[\"amount\"], result[\"tradeOff_items\"]])\n"
   ]
  },
  {
   "cell_type": "code",
   "execution_count": 3,
   "metadata": {},
   "outputs": [],
   "source": [
    "# create a multiple index dataframe\n",
    "index = pd.MultiIndex.from_tuples(multi_index, names=('可累積商品', '累積門檻', '折抵商品', '折抵金額'))\n",
    "df = pd.DataFrame(data=data ,index=index, columns=['VP值', '價格', '購買商品組合'])"
   ]
  },
  {
   "cell_type": "code",
   "execution_count": 4,
   "metadata": {},
   "outputs": [],
   "source": [
    "pd.set_option('display.max_columns', None)\n",
    "# df = df.reorder_levels(['可累積商品', '累積門檻', '折抵金額', '折抵商品']).sort_index(level=['可累積商品', '累積門檻', '折抵金額', '折抵商品'])"
   ]
  },
  {
   "cell_type": "code",
   "execution_count": 13,
   "metadata": {},
   "outputs": [
    {
     "name": "stdout",
     "output_type": "stream",
     "text": [
      "Main itemset: 0.00016000000000000004\n",
      "Galaxy: 0.00015968\n",
      "Galaxy iPhone: 0.00048250\n",
      "AirPods Galaxy: 0.00085985\n",
      "AirPods Galaxy iPhone: 0.00066391\n"
     ]
    }
   ],
   "source": [
    "coupon_test = Coupon(501, itemset[\"AirPods Galaxy iPhone\"], 40, itemset[\"AirPods Galaxy iPhone\"])\n",
    "graph._initNode(user_id)\n",
    "print(\"Main itemset: {0}\".format(user_proxy._mainItemsetVP(user_id, main_itemset)))\n",
    "\n",
    "for id, obj in itemset:\n",
    "    if itemset.issubset(main_itemset, obj):\n",
    "        VP = user_proxy._addtionallyAdoptVP(user_id, main_itemset, obj, coupon_test)\n",
    "        print(\"{0}: {1:.8f}\".format(id, VP))"
   ]
  },
  {
   "cell_type": "code",
   "execution_count": 14,
   "metadata": {},
   "outputs": [
    {
     "name": "stdout",
     "output_type": "stream",
     "text": [
      "Main itemset: 0.00016000000000000004\n",
      "Galaxy: 0.00014260\n",
      "Galaxy iPhone: 0.00044320\n",
      "AirPods Galaxy: 0.00071303\n",
      "AirPods Galaxy iPhone: 0.00060850\n"
     ]
    }
   ],
   "source": [
    "coupon_test = Coupon(561, itemset[\"AirPods Galaxy iPhone\"], 60, itemset[\"AirPods Galaxy iPhone\"])\n",
    "graph._initNode(user_id)\n",
    "print(\"Main itemset: {0}\".format(user_proxy._mainItemsetVP(user_id, main_itemset)))\n",
    "\n",
    "for id, obj in itemset:\n",
    "    if itemset.issubset(main_itemset, obj):\n",
    "        VP = user_proxy._addtionallyAdoptVP(user_id, main_itemset, obj, coupon_test)\n",
    "        print(\"{0}: {1:.8f}\".format(id, VP))"
   ]
  },
  {
   "cell_type": "code",
   "execution_count": null,
   "metadata": {},
   "outputs": [],
   "source": [
    "\"{0:.4E}\".format(user_proxy._mainItemsetVP(user_id, main_itemset))"
   ]
  },
  {
   "cell_type": "code",
   "execution_count": null,
   "metadata": {},
   "outputs": [],
   "source": [
    "df = df.reorder_levels(['可累積商品', '累積門檻', '折抵商品', '折抵金額'])"
   ]
  },
  {
   "cell_type": "code",
   "execution_count": null,
   "metadata": {},
   "outputs": [],
   "source": [
    "df.loc[(df['價格'] > main_itemset.price) & (df['VP值'] > 0.002423076923076923)]"
   ]
  },
  {
   "cell_type": "code",
   "execution_count": null,
   "metadata": {},
   "outputs": [],
   "source": [
    "df.loc[(\"AirPods Galaxy iPhone\", 280, \"AirPods\")]"
   ]
  },
  {
   "cell_type": "markdown",
   "metadata": {},
   "source": [
    "1. 將折抵商品分為兩組，有無包含主商品\n",
    "2. 分成兩個角度觀察\n",
    "    - 可累積商品為同一組，觀察不同折抵商品組合間，在不同折抵金額下隨著累積門檻越高會有什麼變化\n",
    "    - 反過來觀察可折抵商品一組"
   ]
  },
  {
   "cell_type": "code",
   "execution_count": null,
   "metadata": {},
   "outputs": [],
   "source": [
    "# 折抵商品不包含主商品\n",
    "dis_items_exclued_main_items = df[~df.index.get_level_values(\"折抵商品\").str.contains(\"Galaxy\")]\n",
    "print(dis_items_exclued_main_items)"
   ]
  },
  {
   "cell_type": "code",
   "execution_count": null,
   "metadata": {},
   "outputs": [],
   "source": [
    "# 可累積商品\n",
    "index = 0\n",
    "acc_itemset = list_accItemset[index]\n",
    "select_acc_itemset = dis_items_exclued_main_items[dis_items_exclued_main_items.index.get_level_values(\"可累積商品\") == acc_itemset]\n",
    "print(list_accItemset)\n",
    "print(list_accItemset[index])\n"
   ]
  },
  {
   "cell_type": "code",
   "execution_count": null,
   "metadata": {},
   "outputs": [],
   "source": [
    "colors = [\"#242E91\", \"#91233B\", \"#23913D\", \"#ff3399\"]\n",
    "markers = [\"o\", \"v\", \"s\", \"p\", \"x\"]"
   ]
  },
  {
   "cell_type": "code",
   "execution_count": null,
   "metadata": {},
   "outputs": [],
   "source": [
    "set(select_acc_itemset.index.get_level_values('折抵商品'))"
   ]
  },
  {
   "cell_type": "code",
   "execution_count": null,
   "metadata": {},
   "outputs": [],
   "source": [
    "pd.set_option('display.max_rows', None)\n",
    "\n",
    "for distItemset_id in set(select_acc_itemset.index.get_level_values('折抵商品')): # 折抵商品組合\n",
    "    select_dis_itemset = select_acc_itemset[select_acc_itemset.index.get_level_values(\"折抵商品\") == distItemset_id]\n",
    "    print(select_dis_itemset)\n",
    "    # for i in range(len(list_discount)): # 折抵金額\n",
    "    #     select_discount = select_dis_itemset[select_dis_itemset.index.get_level_values(\"折抵金額\") == list_discount[i]]\n",
    "    #     print(select_discount)"
   ]
  },
  {
   "cell_type": "code",
   "execution_count": null,
   "metadata": {},
   "outputs": [],
   "source": [
    "for distItemset_id in set(select_acc_itemset.index.get_level_values('折抵商品')): # 折抵商品組合\n",
    "    select_dis_itemset = select_acc_itemset[select_acc_itemset.index.get_level_values(\"折抵商品\") == distItemset_id]\n",
    "    print(distItemset_id)\n",
    "    plt.figure(\"the relation of VP with discount items: {0}\".format(distItemset_id))\n",
    "    for i in range(len(list_discount)): # 折抵金額\n",
    "        select_discount = select_dis_itemset[select_dis_itemset.index.get_level_values(\"折抵金額\") == list_discount[i]]\n",
    "        print(list_discount[i])\n",
    "        plt.plot(list_accThreshold, list(select_discount[\"VP值\"]), 'k' + markers[i] + '--', \n",
    "                color=colors[i], \n",
    "                label=\"{:.0f}% off\".format(list_discount[i]*100), \n",
    "                markerfacecolor='none')\n",
    "    plt.title(\"the relation of VP with discount items: {0}\".format(distItemset_id))\n",
    "    plt.xlabel(\"Threshold of coupon\")\n",
    "    plt.ylabel(\"VP\")\n",
    "    plt.legend()\n",
    "\n",
    "    plt.figure(\"the relation of amount with discount items: {0}\".format(distItemset_id))\n",
    "    for i in range(len(list_discount)): # 折抵金額\n",
    "        select_discount = select_dis_itemset[select_dis_itemset.index.get_level_values(\"折抵金額\") == list_discount[i]]\n",
    "        plt.plot(list_accThreshold, list(select_discount[\"價格\"]), 'k' + markers[i] + '--', \n",
    "                color=colors[i], \n",
    "                label=\"{:.0f}% off\".format(list_discount[i]*100), \n",
    "                markerfacecolor='none')\n",
    "    plt.title(\"the relation of amount with discount items: {0}\".format(distItemset_id))\n",
    "    plt.xlabel(\"Threshold of coupon\")\n",
    "    plt.ylabel(\"VP\")\n",
    "    plt.legend()"
   ]
  }
 ],
 "metadata": {
  "kernelspec": {
   "display_name": "heji",
   "language": "python",
   "name": "python3"
  },
  "language_info": {
   "codemirror_mode": {
    "name": "ipython",
    "version": 3
   },
   "file_extension": ".py",
   "mimetype": "text/x-python",
   "name": "python",
   "nbconvert_exporter": "python",
   "pygments_lexer": "ipython3",
   "version": "3.10.7"
  },
  "orig_nbformat": 4
 },
 "nbformat": 4,
 "nbformat_minor": 2
}
