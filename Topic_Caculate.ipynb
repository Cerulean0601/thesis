{
 "cells": [
  {
   "cell_type": "code",
   "execution_count": 1,
   "metadata": {},
   "outputs": [],
   "source": [
    "from package.model import DiffusionModel\n",
    "from package.topic import TopicModel\n",
    "from package.social_graph import SN_Graph\n",
    "from package.cluster_graph import ClusterGraph\n",
    "from package.itemset import ItemsetFlyweight, ItemRelation\n",
    "from package.utils import getItemsPrice, read_items\n",
    "from package.algorithm import Algorithm\n",
    "from package.coupon import Coupon\n",
    "from package.user_proxy import UsersProxy\n",
    "from package.itemset import Itemset\n",
    "\n",
    "import pandas as pd\n",
    "import networkx as nx\n",
    "import math"
   ]
  },
  {
   "cell_type": "code",
   "execution_count": 3,
   "metadata": {},
   "outputs": [],
   "source": [
    "# TOPICS = {\n",
    "#     \"Cluster\": {\n",
    "#         '1': [0.4139, 0.2764, 0.3097],\n",
    "#         '2, 3, 5': [0.31980000000000003, 0.31626666666666664, 0.3639333333333333],\n",
    "#         '6': [0.0213, 0.5398, 0.4389],\n",
    "#         '0, 9': [0.11779999999999999, 0.47209999999999996, 0.4101],\n",
    "#         '1, 3': [0.3639, 0.2671, 0.369],\n",
    "#         '4': [0.4535, 0.5131, 0.0334],\n",
    "#         '8': [0.0816, 0.0634, 0.855],\n",
    "#         '3': [0.3139, 0.2578, 0.4283]\n",
    "\n",
    "#     },\n",
    "#     \"Item\": {\n",
    "#         \"iPhone\": [0.7, 0.0, 0.3],\n",
    "#         \"AirPods\": [0.9, 0.0, 0.1],\n",
    "#         \"Galaxy\": [0.0, 0.8, 0.2],\n",
    "#     }\n",
    "# }\n",
    "\n",
    "# PRICES = {\n",
    "#     \"iPhone\": 260,\n",
    "#     \"AirPods\": 60,\n",
    "#     \"Galaxy\": 500,\n",
    "# }\n",
    "# RELATION = pd.DataFrame.from_dict({\n",
    "#             \"iPhone\":{\n",
    "#                 \"AirPods\":10,\n",
    "#                 \"Galaxy\":-5\n",
    "#             },\n",
    "#             \"AirPods\":{\n",
    "#                 \"iPhone\":1,\n",
    "#                 \"Galaxy\":0,\n",
    "#             },\n",
    "#             \"Galaxy\":{\n",
    "#                 \"iPhone\":-8,\n",
    "#                 \"AirPods\":1,\n",
    "#             }\n",
    "#             })\n",
    "\n",
    "TOPICS = {\n",
    "    \"Nodes\": {\n",
    "        '2543': [0.19015006121707884, 0.10805833054734416, 0.39984238221800494, 0.12739171749838238, 0.1745575085191897],\n",
    "\n",
    "    },\n",
    "    \"Item\": {\n",
    "        \"B000JX5JGI\": [0.08011554159821069, 0.21047020618618262, 0.12759859152921385, 0.33202140065860875, 0.24979426002778404],\n",
    "        \"B000VYIUJS\": [0.24266212485090108, 0.10409456331609068, 0.10142814295223984, 0.3170553745396183, 0.23475979434114994],\n",
    "        \"B000JX5JGI B000VYIUJS\": [0.16138883322455588, 0.15728238475113665, 0.11451336724072685, 0.3245383875991135, 0.24227702718446698],\n",
    "    }\n",
    "}\n",
    "PRICES = {\n",
    "    \"B000JX5JGI\": 18.9,\n",
    "    \"B000VYIUJS\": 12.31,\n",
    "}\n",
    "# edges = {('1', '2, 3, 5'): 2.3333333333333335,\n",
    "#     ('1', '6'): 1.0,\n",
    "#     ('2, 3, 5', '0, 9'): 2.0,\n",
    "#     ('2, 3, 5', '1, 3'): 0.8333333333333333,\n",
    "#     ('2, 3, 5', '4'): 0.75,\n",
    "#     ('2, 3, 5', '8'): 0.75,\n",
    "#     ('0, 9', '1'): 0.5,\n",
    "#     ('1, 3', '2, 3, 5'): 2.3333333333333335,\n",
    "#     ('1, 3', '4'): 0.5,\n",
    "#     ('1, 3', '6'): 1.0,\n",
    "#     ('4', '3'): 0.3333333333333333,\n",
    "#     ('3', '4'): 0.5}\n",
    "\n",
    "topic = TopicModel(3, TOPICS[\"Nodes\"], TOPICS[\"Item\"])\n",
    "_itemset = ItemsetFlyweight(PRICES, topic)\n",
    "_graph = ClusterGraph(cluster_topic=topic.getNodesTopic(), theta = 0.9, depth = 5)\n",
    "_user_proxy = UsersProxy(_graph, _itemset, [])\n",
    "# _graph.add_weighted_edges_from([(u, v, edges[u, v]) for u, v in edges.keys()])\n",
    "for node in TOPICS[\"Nodes\"].keys():\n",
    "    _graph.add_node(node)\n",
    "_graph._initAllNodes()"
   ]
  },
  {
   "cell_type": "code",
   "execution_count": 5,
   "metadata": {},
   "outputs": [],
   "source": [
    "def getVPsByUserId(node, mainItemset=None, coupon=None):\n",
    "    if bool(mainItemset) != bool(coupon):\n",
    "        raise ValueError(\"if set mainItemset, coupon also should be set.\")\n",
    "    VP = dict()\n",
    "    for obj in _itemset:\n",
    "        try:\n",
    "           ratio =  _user_proxy._VP_ratio(user_id=node, itemset=obj, mainItemset=mainItemset, coupon=coupon)\n",
    "        except:\n",
    "            ratio = -1\n",
    "\n",
    "        VP[str(obj)] = ratio\n",
    "    return VP\n"
   ]
  },
  {
   "cell_type": "code",
   "execution_count": 6,
   "metadata": {},
   "outputs": [],
   "source": [
    "node = \"2543\"\n",
    "_user_proxy._graph.nodes[node][\"desired_set\"] = _itemset[\"B000JX5JGI\"]\n",
    "# _user_proxy._graph.nodes[node][\"adopted_set\"] = _itemset[\"\"]\n",
    "# coupon = Coupon(accThreshold=_itemset[\"Galaxy\"].price, \n",
    "#                         accItemset=_itemset[\"Galaxy\"], \n",
    "#                         discount=175,\n",
    "#                         disItemset=_itemset[\"iPhone\"])\n",
    "\n",
    "result = getVPsByUserId(node)\n",
    "# result = getVPsByUserId(node, mainItemset=_itemset[\"AirPods\"], coupon=coupon)\n",
    "# _user_proxy._graph.nodes[node][\"desired_set\"] = None"
   ]
  },
  {
   "cell_type": "code",
   "execution_count": 7,
   "metadata": {},
   "outputs": [
    {
     "name": "stdout",
     "output_type": "stream",
     "text": [
      "2543's CP\n",
      "B000VYIUJS: 0.01456661953158344\n",
      "B000JX5JGI: 0.009253788317642312\n",
      "B000JX5JGI B000VYIUJS: 0.005674650522864976\n",
      "\n",
      "2543's benfit\n",
      "B000VYIUJS: 0.17931508643379215\n",
      "B000JX5JGI B000VYIUJS: 0.1771058428186159\n",
      "B000JX5JGI: 0.1748965992034397\n",
      "\n"
     ]
    }
   ],
   "source": [
    "result = sorted(result.items(), key= lambda item:item[1],reverse=True)\n",
    "print(\"{}'s CP\".format(node))\n",
    "for k, v in result:\n",
    "    print(\"{}: {}\".format(k,v))\n",
    "print()\n",
    "\n",
    "result = sorted(result, key= lambda item:item[1]*_itemset[item[0]].price,reverse=True)\n",
    "print(\"{}'s benfit\".format(node))\n",
    "for k, v in result:\n",
    "    print(\"{}: {}\".format(k,v*_itemset[k].price))\n",
    "print()\n"
   ]
  },
  {
   "cell_type": "code",
   "execution_count": 20,
   "metadata": {},
   "outputs": [
    {
     "data": {
      "text/plain": [
       "175"
      ]
     },
     "execution_count": 20,
     "metadata": {},
     "output_type": "execute_result"
    }
   ],
   "source": [
    "math.ceil(_user_proxy._min_discount(\"1\", \"Galaxy\", \"Galaxy iPhone\"))"
   ]
  },
  {
   "cell_type": "code",
   "execution_count": 21,
   "metadata": {},
   "outputs": [],
   "source": [
    "PRICES = {\n",
    "    \"iPhone\": 260,\n",
    "    \"AirPods\": 60,\n",
    "    \"Galaxy\": 500,\n",
    "}"
   ]
  },
  {
   "cell_type": "code",
   "execution_count": 22,
   "metadata": {},
   "outputs": [],
   "source": [
    "from package.topic import TopicModel\n",
    "from package.social_graph import SN_Graph\n",
    "from package.itemset import ItemsetFlyweight\n",
    "from package.user_proxy import UsersProxy\n",
    "from package.coupon import Coupon\n",
    "\n",
    "import math\n",
    "\n",
    "TOPICS = {\n",
    "    \"Cluster\": {\n",
    "        '1': [0.4139, 0.2764, 0.3097],\n",
    "        '2, 3, 5': [0.31980000000000003, 0.31626666666666664, 0.3639333333333333],\n",
    "        '6': [0.0213, 0.5398, 0.4389],\n",
    "        '0, 9': [0.11779999999999999, 0.47209999999999996, 0.4101],\n",
    "        '1, 3': [0.3639, 0.2671, 0.369],\n",
    "        '4': [0.4535, 0.5131, 0.0334],\n",
    "        '8': [0.0816, 0.0634, 0.855],\n",
    "        '3': [0.8, 0.2, 0.4283]\n",
    "\n",
    "    },\n",
    "    \"Item\": {\n",
    "            '0': [0.7, 0.3],\n",
    "            '1': [0.8, 0.2],\n",
    "            '2': [0.5, 0.5],\n",
    "            '0 1': [0, 1],\n",
    "            '0 2': [0.4, 0.6],\n",
    "            '1 2': [0.3, 0.7],\n",
    "            '0 1 2': [0.6, 0.7]\n",
    "        }\n",
    "}\n",
    "PRICES = {\"0\":200, \"1\":260, \"2\":60}\n",
    "edges = {('1', '2, 3, 5'): 2.3333333333333335,\n",
    "    ('1', '6'): 1.0,\n",
    "    ('2, 3, 5', '0, 9'): 2.0,\n",
    "    ('2, 3, 5', '1, 3'): 0.8333333333333333,\n",
    "    ('2, 3, 5', '4'): 0.75,\n",
    "    ('2, 3, 5', '8'): 0.75,\n",
    "    ('0, 9', '1'): 0.5,\n",
    "    ('1, 3', '2, 3, 5'): 2.3333333333333335,\n",
    "    ('1, 3', '4'): 0.5,\n",
    "    ('1, 3', '6'): 1.0,\n",
    "    ('4', '3'): 0.3333333333333333,\n",
    "    ('3', '4'): 0.5}\n",
    "\n",
    "topic = TopicModel(3, TOPICS[\"Cluster\"], TOPICS[\"Item\"])\n",
    "_itemset = ItemsetFlyweight(PRICES, topic)\n",
    "_graph = SN_Graph(node_topic=TOPICS[\"Cluster\"], located=False)\n",
    "_user_proxy = UsersProxy(_graph, _itemset, [])\n",
    "_graph.add_edges_from([(u, v) for u, v in edges.keys()])\n",
    "_graph.initAttr()\n"
   ]
  },
  {
   "cell_type": "code",
   "execution_count": 23,
   "metadata": {},
   "outputs": [
    {
     "name": "stdout",
     "output_type": "stream",
     "text": [
      "1's CP\n",
      "2: 0.005752499999999999\n",
      "0: 0.0018632499999999999\n",
      "1: 0.0014861538461538462\n",
      "0 2: 0.0012746153846153847\n",
      "1 2: 0.00099265625\n",
      "0 1 2: 0.0008496538461538461\n",
      "0 1: 0.0006008695652173913\n",
      "\n",
      "1's benfit\n",
      "0 1 2: 0.44182\n",
      "1: 0.3864\n",
      "0: 0.37265\n",
      "2: 0.34514999999999996\n",
      "0 2: 0.33140000000000003\n",
      "1 2: 0.31765\n",
      "0 1: 0.2764\n",
      "\n"
     ]
    }
   ],
   "source": [
    "node = \"1\"\n",
    "\n",
    "result = _user_proxy.getVPsByUserId(node)\n",
    "result = sorted(result.items(), key= lambda item:item[1],reverse=True)\n",
    "print(\"{}'s CP\".format(node))\n",
    "for k, v in result:\n",
    "    print(\"{}: {}\".format(k,v))\n",
    "print()\n",
    "\n",
    "result = sorted(result, key= lambda item:item[1]*_itemset[item[0]].price,reverse=True)\n",
    "print(\"{}'s benfit\".format(node))\n",
    "for k, v in result:\n",
    "    print(\"{}: {}\".format(k,v*_itemset[k].price))\n",
    "print()\n"
   ]
  }
 ],
 "metadata": {
  "kernelspec": {
   "display_name": "env",
   "language": "python",
   "name": "python3"
  },
  "language_info": {
   "codemirror_mode": {
    "name": "ipython",
    "version": 3
   },
   "file_extension": ".py",
   "mimetype": "text/x-python",
   "name": "python",
   "nbconvert_exporter": "python",
   "pygments_lexer": "ipython3",
   "version": "3.10.7"
  }
 },
 "nbformat": 4,
 "nbformat_minor": 2
}
