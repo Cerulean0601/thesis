{
 "cells": [
  {
   "cell_type": "code",
   "execution_count": 9,
   "metadata": {},
   "outputs": [],
   "source": [
    "from package.model import DiffusionModel\n",
    "from package.topic import TopicModel\n",
    "from package.social_graph import SN_Graph\n",
    "from package.cluster_graph import ClusterGraph\n",
    "from package.itemset import ItemsetFlyweight, ItemRelation\n",
    "from package.utils import getItemsPrice, read_items\n",
    "from package.algorithm import Algorithm\n",
    "from package.coupon import Coupon\n",
    "from package.user_proxy import UsersProxy\n",
    "from package.itemset import Itemset\n",
    "\n",
    "import pandas as pd\n",
    "import networkx as nx"
   ]
  },
  {
   "cell_type": "code",
   "execution_count": 10,
   "metadata": {},
   "outputs": [],
   "source": [
    "TOPICS = {\n",
    "    \"Cluster\": {\n",
    "        '1': [0.4139, 0.2764, 0.3097],\n",
    "        '2, 3, 5': [0.31980000000000003, 0.31626666666666664, 0.3639333333333333],\n",
    "        '6': [0.0213, 0.5398, 0.4389],\n",
    "        '0, 9': [0.11779999999999999, 0.47209999999999996, 0.4101],\n",
    "        '1, 3': [0.3639, 0.2671, 0.369],\n",
    "        '4': [0.4535, 0.5131, 0.0334],\n",
    "        '8': [0.0816, 0.0634, 0.855],\n",
    "        '3': [0.3139, 0.2578, 0.4283]\n",
    "\n",
    "    },\n",
    "    \"Item\": {\n",
    "        \"iPhone\": [0.7, 0.0, 0.3],\n",
    "        \"AirPods\": [0.9, 0.0, 0.1],\n",
    "        \"Galaxy\": [0.0, 0.8, 0.2],\n",
    "    }\n",
    "}\n",
    "PRICES = {\n",
    "    \"iPhone\": 260,\n",
    "    \"AirPods\": 60,\n",
    "    \"Galaxy\": 500,\n",
    "}\n",
    "RELATION = pd.DataFrame.from_dict({\n",
    "            \"iPhone\":{\n",
    "                \"AirPods\":10,\n",
    "                \"Galaxy\":-5\n",
    "            },\n",
    "            \"AirPods\":{\n",
    "                \"iPhone\":1,\n",
    "                \"Galaxy\":0,\n",
    "            },\n",
    "            \"Galaxy\":{\n",
    "                \"iPhone\":-8,\n",
    "                \"AirPods\":1,\n",
    "            }\n",
    "            })\n",
    "\n",
    "edges = {('1', '2, 3, 5'): 2.3333333333333335,\n",
    "    ('1', '6'): 1.0,\n",
    "    ('2, 3, 5', '0, 9'): 2.0,\n",
    "    ('2, 3, 5', '1, 3'): 0.8333333333333333,\n",
    "    ('2, 3, 5', '4'): 0.75,\n",
    "    ('2, 3, 5', '8'): 0.75,\n",
    "    ('0, 9', '1'): 0.5,\n",
    "    ('1, 3', '2, 3, 5'): 2.3333333333333335,\n",
    "    ('1, 3', '4'): 0.5,\n",
    "    ('1, 3', '6'): 1.0,\n",
    "    ('4', '3'): 0.3333333333333333,\n",
    "    ('3', '4'): 0.5}\n",
    "\n",
    "relation = ItemRelation(RELATION)\n",
    "topic = TopicModel(3, TOPICS[\"Cluster\"], TOPICS[\"Item\"])\n",
    "_itemset = ItemsetFlyweight(PRICES, topic, relation)\n",
    "_graph = ClusterGraph(cluster_topic=topic.getNodesTopic(), theta = 0.9, depth = 5)\n",
    "_user_proxy = UsersProxy(_graph, _itemset, [])\n",
    "_graph.add_weighted_edges_from([(u, v, edges[u, v]) for u, v in edges.keys()])"
   ]
  },
  {
   "cell_type": "code",
   "execution_count": 16,
   "metadata": {},
   "outputs": [
    {
     "name": "stdout",
     "output_type": "stream",
     "text": [
      "2, 3, 5's CP\n",
      "AirPods: 0.0054035555555555555\n",
      "iPhone: 0.0012809230769230769\n",
      "AirPods iPhone: 0.001026085438584013\n",
      "Galaxy: 0.0006516\n",
      "AirPods Galaxy: 0.0005803573492964911\n",
      "Galaxy iPhone: 0.00043332771171423047\n",
      "AirPods Galaxy iPhone: 0.0003994055542775261\n",
      "\n"
     ]
    }
   ],
   "source": [
    "node = \"2, 3, 5\"\n",
    "result = _user_proxy.getVPsByUserId(node)\n",
    "result = sorted(result.items(), key= lambda item:item[1],reverse=True)\n",
    "print(\"{}'s CP\".format(node))\n",
    "for k, v in result:\n",
    "    print(\"{}: {}\".format(k,v))\n",
    "print()\n"
   ]
  },
  {
   "cell_type": "code",
   "execution_count": 12,
   "metadata": {},
   "outputs": [
    {
     "name": "stdout",
     "output_type": "stream",
     "text": [
      "[]\n",
      "0.0010392399999999999\n"
     ]
    }
   ],
   "source": [
    "discountable = list(str(obj) for obj in _user_proxy.discoutableItems(node, _itemset[\"Galaxy\"]))\n",
    "print(discountable)\n",
    "print(_user_proxy._VP_ratio(node, \"Galaxy\"))\n",
    "for ids in discountable:\n",
    "    print(_user_proxy._min_discount(node, \"Galaxy\", ids), _user_proxy._VP_ratio(node, ids))"
   ]
  },
  {
   "cell_type": "code",
   "execution_count": 13,
   "metadata": {},
   "outputs": [
    {
     "data": {
      "text/plain": [
       "435"
      ]
     },
     "execution_count": 13,
     "metadata": {},
     "output_type": "execute_result"
    }
   ],
   "source": [
    "import math\n",
    "min_discount = math.ceil(_user_proxy._min_discount(node, \"Galaxy\", \"Galaxy iPhone\"))\n",
    "min_discount"
   ]
  },
  {
   "cell_type": "code",
   "execution_count": 19,
   "metadata": {},
   "outputs": [
    {
     "data": {
      "text/plain": [
       "{'weight': 0.5, 'is_tested': False}"
      ]
     },
     "execution_count": 19,
     "metadata": {},
     "output_type": "execute_result"
    }
   ],
   "source": [
    "_graph.edges['1', '2, 3, 5']"
   ]
  },
  {
   "cell_type": "code",
   "execution_count": 17,
   "metadata": {},
   "outputs": [
    {
     "name": "stdout",
     "output_type": "stream",
     "text": [
      "2, 3, 5's CP\n",
      "AirPods: 0.0054035555555555555\n",
      "iPhone: 0.0012809230769230769\n",
      "AirPods iPhone: 0.001026085438584013\n",
      "Galaxy: 0.0006516\n",
      "AirPods Galaxy: 0.0005803573492964911\n",
      "Galaxy iPhone: 0.00043332771171423047\n",
      "AirPods Galaxy iPhone: 0.0003994055542775261\n",
      "\n"
     ]
    }
   ],
   "source": [
    "\n",
    "coupon = Coupon(accThreshold=_itemset[\"Galaxy\"].price+61, \n",
    "                accItemset=_itemset[\"Galaxy\"], \n",
    "                discount=min_discount,\n",
    "                disItemset=_itemset[\"iPhone\"])\n",
    "\n",
    "_graph.nodes[node][\"desired_set\"] = _itemset[\"Galaxy AirPods\"]\n",
    "result = _user_proxy.getVPsByUserId(node)\n",
    "result = sorted(result.items(), key= lambda item:item[1],reverse=True)\n",
    "print(\"{}'s CP\".format(node))\n",
    "for k, v in result:\n",
    "    print(\"{}: {}\".format(k,v))\n",
    "print()\n",
    "\n"
   ]
  }
 ],
 "metadata": {
  "kernelspec": {
   "display_name": "env",
   "language": "python",
   "name": "python3"
  },
  "language_info": {
   "codemirror_mode": {
    "name": "ipython",
    "version": 3
   },
   "file_extension": ".py",
   "mimetype": "text/x-python",
   "name": "python",
   "nbconvert_exporter": "python",
   "pygments_lexer": "ipython3",
   "version": "3.10.7"
  }
 },
 "nbformat": 4,
 "nbformat_minor": 2
}
