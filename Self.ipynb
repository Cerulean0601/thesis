{
 "cells": [
  {
   "cell_type": "code",
   "execution_count": 10,
   "metadata": {},
   "outputs": [
    {
     "name": "stdout",
     "output_type": "stream",
     "text": [
      "Constructing graph...\n",
      "Connecting the edges...Done\n",
      "396\n",
      "40944\n"
     ]
    }
   ],
   "source": [
    "import unittest\n",
    "from time import time, ctime, sleep\n",
    "from notify_run import Notify\n",
    "# CONSTANT\n",
    "DATA_ROOT = \"./data\"\n",
    "DBLP_PATH = DATA_ROOT + \"/dblp\"\n",
    "AMAZON_PATH = DATA_ROOT + \"/amazon\"\n",
    "FACEBOOK_PATH = DATA_ROOT + \"/facebook\"\n",
    "NOTIFY_ENDPOINT = r\"https://notify.run/O6EfLmG6Tof1s5DljYB7\"\n",
    "\n",
    "def test():\n",
    "    testRunner = unittest.TextTestRunner()\n",
    "    suite = unittest.defaultTestLoader.discover(\"./test/\")\n",
    "    testRunner.run(suite)\n",
    "\n",
    "#import logging\n",
    "\n",
    "#logging.basicConfig(format='%(levelname)s: %(message)s', level=logging.INFO)\n",
    "\n",
    "import pandas as pd\n",
    "import networkx as nx\n",
    "from copy import deepcopy\n",
    "\n",
    "from package.tag import Tagger, TagRevenue, TagActiveNode\n",
    "from package.model import DiffusionModel\n",
    "from package.topic import TopicModel\n",
    "from package.social_graph import SN_Graph\n",
    "from package.itemset import ItemsetFlyweight, ItemRelation\n",
    "from package.utils import getItemsPrice, read_items\n",
    "from package.algorithm import Algorithm\n",
    "from package.cluster_graph import ClusterGraph\n",
    "\n",
    "NUM_TOPICS = 5\n",
    "TOPICS = {\n",
    "    \"Node\": {\n",
    "        \"0\": [0.9, 0.1, 0.0],\n",
    "        \"1\": [0.2, 0.8, 0.0],\n",
    "        \"2\": [0.8, 0.2, 0.0],\n",
    "        \"3\": [0.2, 0.4, 0.4],\n",
    "    },\n",
    "    \"Item\": {\n",
    "        \"iPhone\": [0.7, 0.0, 0.3],\n",
    "        \"AirPods\": [0.9, 0.0, 0.1],\n",
    "        \"Galaxy\": [0.0, 0.8, 0.2],\n",
    "    }\n",
    "}\n",
    "PRICES = {\n",
    "    \"iPhone\": 50,\n",
    "    \"AirPods\": 5,\n",
    "    \"Galaxy\": 60,\n",
    "}\n",
    "RELATION = pd.DataFrame.from_dict({\n",
    "            \"iPhone\":{\n",
    "                \"AirPods\":10,\n",
    "                \"Galaxy\":-5\n",
    "            },\n",
    "            \"AirPods\":{\n",
    "                \"iPhone\":1,\n",
    "                \"Galaxy\":0,\n",
    "            },\n",
    "            \"Galaxy\":{\n",
    "                \"iPhone\":-8,\n",
    "                \"AirPods\":1,\n",
    "            }\n",
    "            })\n",
    "\n",
    "items = read_items(AMAZON_PATH + \"/sample_items.csv\")\n",
    "\n",
    "topicModel = TopicModel(NUM_TOPICS)\n",
    "topicModel.read_topics(node_file=FACEBOOK_PATH + \"/nodes_with_\" + str(NUM_TOPICS) + \"_topic.csv\",\n",
    "                        items_file=AMAZON_PATH + \"/items_with_\" + str(NUM_TOPICS) + \"_topic.csv\")\n",
    "\n",
    "graph = SN_Graph.construct(FACEBOOK_PATH + \"/edges\", topicModel, located=False)\n",
    "relation = ItemRelation()\n",
    "relation.construct(AMAZON_PATH + \"/sample_items.csv\")\n",
    "itemset = ItemsetFlyweight(getItemsPrice(AMAZON_PATH + \"/sample_items.csv\"), topicModel, relation)\n",
    "\n",
    "model = DiffusionModel(graph, itemset, threshold=10**(-5), name=\"amazon in dblp\")\n",
    "seed_size = min(itemset.size, graph.number_of_nodes())\n",
    "seeds = model.selectSeeds(seed_size)\n",
    "model.allocate(seeds, [itemset[asin] for asin in itemset.PRICE.keys()])\n",
    "algo = Algorithm(model, 20, depth=0)\n",
    "\n",
    "\n",
    "subgraph = graph.bfs_sampling(algo._max_expected_len, roots=model.getSeeds())\n",
    "for s in seeds:\n",
    "    for attr, value in graph.nodes[s].items():\n",
    "        subgraph.nodes[s][attr] = value\n",
    "print(len(subgraph))\n",
    "print(len(subgraph.edges))\n",
    "\n",
    "# test\n",
    "out_neighbors = list(subgraph.neighbors('2543'))\n",
    "neighbor = out_neighbors[0]\n",
    "topicModel._mappingNode['2543_same'] = topicModel._mappingNode[neighbor]\n",
    "subgraph.add_node('2543_same')\n",
    "subgraph._initNode('2543_same')\n",
    "subgraph.add_edge('2543', '2543_same', weight=1)\n",
    "# end test\n",
    "\n",
    "cluster_graph = ClusterGraph(graph = subgraph, \n",
    "                                    seeds = seeds,\n",
    "                                    located = False,\n",
    "                                    depth = 1,\n",
    "                                    theta = 0.95)"
   ]
  },
  {
   "cell_type": "code",
   "execution_count": 31,
   "metadata": {},
   "outputs": [
    {
     "data": {
      "text/plain": [
       "True"
      ]
     },
     "execution_count": 31,
     "metadata": {},
     "output_type": "execute_result"
    }
   ],
   "source": [
    "import numpy as np\n",
    "from numpy.linalg import norm\n",
    "\n",
    "u = subgraph.nodes['2407']['topic']\n",
    "v = subgraph.nodes['2543_same']['topic']\n",
    "np.dot(u, v)/(norm(u)*norm(v)) >= 1"
   ]
  },
  {
   "cell_type": "code",
   "execution_count": null,
   "metadata": {},
   "outputs": [],
   "source": []
  },
  {
   "cell_type": "code",
   "execution_count": 12,
   "metadata": {},
   "outputs": [
    {
     "data": {
      "text/plain": [
       "232"
      ]
     },
     "execution_count": 12,
     "metadata": {},
     "output_type": "execute_result"
    }
   ],
   "source": [
    "nodes_tree = set()\n",
    "for s in seeds:\n",
    "   T = nx.bfs_tree(subgraph, s, depth_limit=1)\n",
    "   nodes_tree |= set(T.nodes)\n",
    "len(nodes_tree)"
   ]
  },
  {
   "cell_type": "code",
   "execution_count": 3,
   "metadata": {},
   "outputs": [
    {
     "data": {
      "text/plain": [
       "{'desired_set': None,\n",
       " 'adopted_set': None,\n",
       " 'nodes': {'2407'},\n",
       " 'topic': [0.31636895949932764,\n",
       "  0.28505262427644096,\n",
       "  0.03970837254940788,\n",
       "  0.07894647312801878,\n",
       "  0.27992357054680467],\n",
       " 'adopted_records': []}"
      ]
     },
     "execution_count": 3,
     "metadata": {},
     "output_type": "execute_result"
    }
   ],
   "source": [
    "cluster_graph.nodes['2407']"
   ]
  },
  {
   "cell_type": "code",
   "execution_count": 13,
   "metadata": {},
   "outputs": [
    {
     "data": {
      "text/plain": [
       "97"
      ]
     },
     "execution_count": 13,
     "metadata": {},
     "output_type": "execute_result"
    }
   ],
   "source": [
    "len(cluster_graph.nodes)"
   ]
  },
  {
   "cell_type": "code",
   "execution_count": null,
   "metadata": {},
   "outputs": [],
   "source": []
  }
 ],
 "metadata": {
  "kernelspec": {
   "display_name": "env",
   "language": "python",
   "name": "python3"
  },
  "language_info": {
   "codemirror_mode": {
    "name": "ipython",
    "version": 3
   },
   "file_extension": ".py",
   "mimetype": "text/x-python",
   "name": "python",
   "nbconvert_exporter": "python",
   "pygments_lexer": "ipython3",
   "version": "3.10.7"
  },
  "orig_nbformat": 4
 },
 "nbformat": 4,
 "nbformat_minor": 2
}
